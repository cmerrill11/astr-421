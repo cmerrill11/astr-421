{
 "cells": [
  {
   "cell_type": "markdown",
   "metadata": {},
   "source": [
    "# Homework 1\n",
    "\n",
    "### 1\n",
    "- *Read the datafile from Table 3 of Gao (2018)*\n",
    "\n",
    "- *How many stars are included in this data?*"
   ]
  },
  {
   "cell_type": "code",
   "execution_count": 1,
   "metadata": {},
   "outputs": [],
   "source": [
    "import pandas as pd\n",
    "import matplotlib.pyplot as plt\n",
    "import numpy as np\n",
    "# Add other imports here"
   ]
  },
  {
   "cell_type": "code",
   "execution_count": 2,
   "metadata": {},
   "outputs": [
    {
     "data": {
      "text/plain": [
       "0       12.614237\n",
       "1       12.631922\n",
       "2       15.915327\n",
       "3       14.222943\n",
       "4       12.430536\n",
       "          ...    \n",
       "1497    14.469284\n",
       "1498    15.309909\n",
       "1499    16.613552\n",
       "1500    16.161057\n",
       "1501    18.175215\n",
       "Name: phot_g_mean_mag, Length: 1502, dtype: float64"
      ]
     },
     "execution_count": 2,
     "metadata": {},
     "output_type": "execute_result"
    }
   ],
   "source": [
    "file = 'Gao2018_GaiaEDR3.csv'\n",
    "gao2018 = pd.read_csv(file)\n",
    "gao2018['phot_g_mean_mag']"
   ]
  },
  {
   "cell_type": "markdown",
   "metadata": {},
   "source": [
    "This data contains 1502 stars. The stars are described by 67 features. The number of stars and the features that describe them make up the data. \n",
    "\n",
    "### 2\n",
    "- *Read the MIST Isochrone*"
   ]
  },
  {
   "cell_type": "code",
   "execution_count": 3,
   "metadata": {},
   "outputs": [
    {
     "data": {
      "text/plain": [
       "<bound method NDFrame.head of        EEP  log10_isochrone_age_yr  initial_mass  star_mass  log_Teff  \\\n",
       "0      226                    9.65      0.113136   0.113135  3.469524   \n",
       "1      227                    9.65      0.117447   0.117447  3.472544   \n",
       "2      228                    9.65      0.121829   0.121829  3.475614   \n",
       "3      229                    9.65      0.126400   0.126399  3.478817   \n",
       "4      230                    9.65      0.130769   0.130768  3.481880   \n",
       "...    ...                     ...           ...        ...       ...   \n",
       "1480  1706                    9.65      1.317225   0.555160  4.366943   \n",
       "1481  1707                    9.65      1.317408   0.555153  4.358641   \n",
       "1482  1708                    9.65      1.317615   0.555146  4.350286   \n",
       "1483  1709                    9.65      1.317849   0.555137  4.341868   \n",
       "1484  1710                    9.65      1.318113   0.555128  4.333381   \n",
       "\n",
       "         log_g     log_L  [Fe/H]_init    [Fe/H]  Bessell_U  ...  \\\n",
       "0     5.204566 -2.887418          0.0  0.042210  18.051157  ...   \n",
       "1     5.194228 -2.849816          0.0  0.042257  17.836487  ...   \n",
       "2     5.183721 -2.811595          0.0  0.042306  17.621468  ...   \n",
       "3     5.172763 -2.771730          0.0  0.042361  17.401094  ...   \n",
       "4     5.162288 -2.733616          0.0  0.042416  17.194164  ...   \n",
       "...        ...       ...          ...       ...        ...  ...   \n",
       "1480  7.870836 -1.265856          0.0  0.191203   9.210101  ...   \n",
       "1481  7.873416 -1.301646          0.0  0.192960   9.267213  ...   \n",
       "1482  7.876001 -1.337660          0.0  0.194956   9.324341  ...   \n",
       "1483  7.878604 -1.373941          0.0  0.197227   9.381694  ...   \n",
       "1484  7.881239 -1.410532          0.0  0.199799   9.439493  ...   \n",
       "\n",
       "      Gaia_RP_DR2Rev  Gaia_G_MAW  Gaia_BP_MAWb  Gaia_BP_MAWf  Gaia_RP_MAW  \\\n",
       "0          12.108379   13.386523     15.455476     15.498421    12.083219   \n",
       "1          11.988333   13.256105     15.270314     15.313213    11.963407   \n",
       "2          11.867548   13.124514     15.084145     15.127029    11.842855   \n",
       "3          11.743056   12.988420     14.892171     14.935066    11.718603   \n",
       "4          11.625242   12.859132     14.710089     14.753011    11.601012   \n",
       "...              ...         ...           ...           ...          ...   \n",
       "1480       10.538525   10.302882     10.188382     10.153661    10.523283   \n",
       "1481       10.574993   10.343969     10.232028     10.198164    10.559753   \n",
       "1482       10.611198   10.384836     10.275483     10.242480    10.595961   \n",
       "1483       10.647293   10.425638     10.318907     10.286773    10.632055   \n",
       "1484       10.683439   10.466539     10.362471     10.331215    10.668201   \n",
       "\n",
       "           TESS  Gaia_G_EDR3  Gaia_BP_EDR3  Gaia_RP_EDR3  phase  \n",
       "0     11.960443    13.405561     15.480445     12.080176    0.0  \n",
       "1     11.845152    13.275225     15.295070     11.960216    0.0  \n",
       "2     11.729138    13.143710     15.108683     11.839545    0.0  \n",
       "3     11.609558    13.007692     14.916454     11.715208    0.0  \n",
       "4     11.496374    12.878467     14.734104     11.597589    0.0  \n",
       "...         ...          ...           ...           ...    ...  \n",
       "1480  10.525784    10.314028     10.197763     10.541332    6.0  \n",
       "1481  10.562235    10.355303     10.241529     10.577741    6.0  \n",
       "1482  10.598423    10.396358     10.285105     10.613886    6.0  \n",
       "1483  10.634498    10.437349     10.328648     10.649918    6.0  \n",
       "1484  10.670623    10.478442     10.372330     10.686000    6.0  \n",
       "\n",
       "[1485 rows x 34 columns]>"
      ]
     },
     "execution_count": 3,
     "metadata": {},
     "output_type": "execute_result"
    }
   ],
   "source": [
    "file2 = 'MIST_iso_61ca3125bac7d.iso.cmd'\n",
    "mist = pd.read_csv(file2, header = 12, delim_whitespace = True)\n",
    "mist.head"
   ]
  },
  {
   "cell_type": "markdown",
   "metadata": {},
   "source": [
    "### 4\n",
    "- *Plot the Gaia EDR3 color-magnitude diagram for M67 using both the data from (1) and the model from (2). Use the BP-RP color (x-axis) and the apparent G-band magnitude (y-axis). Estimate the distance modulus to put the isochrone on top of the cluster data, or use information from the Gao (2018) crossmatch (e.g. Gaia parallax...)*\n",
    "\n",
    "- *Label the M67 CMD with all major phases of stellar evolution:*\n",
    "    - *Main Sequence*\n",
    "    - *Turn Off*\n",
    "    - *Blue Stragglers*\n",
    "    - *Sub-Giants*\n",
    "    - *Red giant branch*\n",
    "    - *Horizontal Branch*\n",
    "    - *White Dwarfs*\n",
    "\n",
    "To estimate the distance modulus, we take the distance to M67 to be 800 pc. As a result, the absolute magnitude can be calculated using \n",
    "$$\n",
    "M_{G} = -5\\log_{10}(800)+5+m_{G}\n",
    "$$\n",
    "with $m_{G}$ the apparent magnitude and $M_{G}$ the absolute magnitude generated by the model"
   ]
  },
  {
   "cell_type": "code",
   "execution_count": 4,
   "metadata": {},
   "outputs": [
    {
     "data": {
      "text/plain": [
       "Index(['angDist', '_RAJ2000', '_DEJ2000', 'E', 'GaiaDR2', 'RAJ2000', 'DEJ2000',\n",
       "       'PRF', 'Simbad', 'ra_epoch2000', 'dec_epoch2000', 'errHalfMaj',\n",
       "       'errHalfMin', 'errPosAng', 'source_id', 'ra', 'ra_error', 'dec',\n",
       "       'dec_error', 'parallax', 'parallax_error', 'parallax_over_error', 'pm',\n",
       "       'pmra', 'pmra_error', 'pmdec', 'pmdec_error',\n",
       "       'astrometric_n_good_obs_al', 'astrometric_gof_al',\n",
       "       'astrometric_chi2_al', 'astrometric_excess_noise',\n",
       "       'astrometric_excess_noise_sig', 'astrometric_params_solved',\n",
       "       'pseudocolour', 'pseudocolour_error', 'visibility_periods_used', 'ruwe',\n",
       "       'duplicated_source', 'phot_g_mean_flux', 'phot_g_mean_flux_error',\n",
       "       'phot_g_mean_mag', 'phot_bp_mean_flux', 'phot_bp_mean_flux_error',\n",
       "       'phot_bp_mean_mag', 'phot_rp_mean_flux', 'phot_rp_mean_mag',\n",
       "       'phot_bp_rp_excess_factor', 'bp_rp', 'dr2_radial_velocity',\n",
       "       'dr2_radial_velocity_error', 'dr2_rv_nb_transits',\n",
       "       'dr2_rv_template_teff', 'dr2_rv_template_logg', 'panstarrs1',\n",
       "       'sdssdr13', 'skymapper2', 'urat1', 'phot_g_mean_mag_error',\n",
       "       'phot_bp_mean_mag_error', 'phot_rp_mean_mag_error',\n",
       "       'phot_g_mean_mag_corrected', 'phot_g_mean_mag_error_corrected',\n",
       "       'phot_g_mean_flux_corrected', 'phot_bp_rp_excess_factor_corrected',\n",
       "       'ra_epoch2000_error', 'dec_epoch2000_error', 'ra_dec_epoch2000_corr'],\n",
       "      dtype='object')"
      ]
     },
     "execution_count": 4,
     "metadata": {},
     "output_type": "execute_result"
    }
   ],
   "source": [
    "gao2018.columns"
   ]
  },
  {
   "cell_type": "code",
   "execution_count": 5,
   "metadata": {},
   "outputs": [
    {
     "data": {
      "image/png": "[encoded data removed]",
      "text/plain": [
       "<Figure size 720x720 with 1 Axes>"
      ]
     },
     "metadata": {
      "needs_background": "light"
     },
     "output_type": "display_data"
    }
   ],
   "source": [
    "fig, ax = plt.subplots(1,1, figsize = (10, 10))\n",
    "plt.tick_params(labelsize = 14)\n",
    "\n",
    "distance_modulus = -5*np.log10(800)+5\n",
    "\n",
    "gao2018_color = gao2018['bp_rp']\n",
    "gao2018_mag = gao2018['phot_g_mean_mag']\n",
    "ax.scatter(gao2018_color, \n",
    "           distance_modulus + gao2018_mag, \n",
    "           s = 3, \n",
    "           label = 'Gao 2018 data')\n",
    "\n",
    "mist_color = mist['Gaia_BP_EDR3'] - mist['Gaia_RP_EDR3']\n",
    "mist_mag =  mist['Gaia_G_EDR3']\n",
    "\n",
    "ax.scatter(mist_color, \n",
    "           mist_mag, \n",
    "           s= 3, \n",
    "           label = 'Model Isochrone data')\n",
    "\n",
    "ax.annotate('Main Sequence', xy=(1, 6), xytext=(-0.25, 7),\n",
    "            arrowprops=dict(facecolor='black', width = 0.5, shrink=99))\n",
    "\n",
    "ax.annotate('Turn off', xy=(0.66, 4), xytext=(0, 4.5),\n",
    "            arrowprops=dict(facecolor='black', width = 0.5, shrink=99))\n",
    "\n",
    "ax.annotate('Blue Stragglers', xy=(0.2, 1.5), xytext=(-0.3, 3),\n",
    "            arrowprops=dict(facecolor='black', width = 0.5, shrink=99))\n",
    "\n",
    "ax.annotate('Sub-Giants', xy=(1.2, 3), xytext=(1.5, 3),\n",
    "            arrowprops=dict(facecolor='black', width = 0.5, shrink=99))\n",
    "\n",
    "ax.annotate('Red Giant Branch', xy=(1.6, 0), xytext=(2, 0),\n",
    "            arrowprops=dict(facecolor='black', width = 0.5, shrink=99))\n",
    "\n",
    "ax.annotate('Horizontal Branch', xy=(0.5, -1.5), xytext=(0.5, -3),\n",
    "            arrowprops=dict(facecolor='black', width = 0.5, shrink=99))\n",
    "\n",
    "ax.annotate('White Dwarfs', xy=(0.2, 11), xytext=(0, 9),\n",
    "            arrowprops=dict(facecolor='black', width = 0.5, shrink=99))\n",
    "\n",
    "ax.invert_yaxis()\n",
    "ax.set_xlabel('BP-RP', fontsize = 16)\n",
    "ax.set_ylabel('G', fontsize = 16)\n",
    "ax.set_title('M67 Color-Magnitude Diagram', fontsize = 14)\n",
    "ax.legend(fontsize = 12)\n",
    "\n",
    "\n",
    "plt.show()"
   ]
  },
  {
   "cell_type": "markdown",
   "metadata": {},
   "source": [
    "### 4\n",
    "- *Explain how you would answer these basic questions about M67, given such measurements and isochrone models:*\n",
    "    - *How old is the cluster?*\n",
    "    - *How far away is it?*\n",
    "    - *How massive is it?*\n",
    "- *Estimate each of these quantities as well*  \n",
    "\n",
    "The age of a cluster can by matching an isochrone to the turnoff point of a cluster. By matching isochrones of different ages and whose metallicities mathch that of the cluster being studied, the age of the cluster can be determined for the cluster. The isochrone that best matches the turnoff point of the cluster corresponds to the age of the cluster. The isochrone in this assignemnt was generated with $age = log_{10}{9.65}$\n",
    "Since this isochrone roughly corresponds to the age and metallicity of M67, we take the age of M67 to be $10^{9.65}$ or around 4.4 billion years old.\n",
    "\n",
    "\n",
    "One can use the isochrone to estimate the distance. The distance modulus is definded as \n",
    "$$\n",
    "m_G - M_G = 5\\log_{10}{d}-5\n",
    "$$\n",
    "The isochrone is given in absolute magnitude. To estimate the distance to the cluster, we rearrange the equation\n",
    "$$\n",
    "M_G = -5\\log_{10}{d}+5+m_G\n",
    "$$\n",
    "and try different values for the term containing $d$. The value that gives that best match between the Gao 2018 sample and the isochrone is the values used to solve for d. When this method is applied usign the model isochrone and the GAO 2018 data, the distance to the cluster is ~800 pc\n"
   ]
  },
  {
   "cell_type": "code",
   "execution_count": 14,
   "metadata": {},
   "outputs": [
    {
     "name": "stdout",
     "output_type": "stream",
     "text": [
      "1193.9741555683527 1502\n"
     ]
    }
   ],
   "source": [
    "centers = np.arange(-2, 11, 0.4)\n",
    "cluster_mass = 0\n",
    "stars = 0\n",
    "\n",
    "mist['bp_rp'] = mist['Gaia_BP_EDR3'] - mist['Gaia_RP_EDR3']\n",
    "mist_color_slice = mist[np.abs(1.5 - mist['bp_rp']) < 1.5]\n",
    "\n",
    "gao2018['abs_mag'] = gao2018['phot_g_mean_mag'] + distance_modulus\n",
    "\n",
    "for i in centers: \n",
    "    mist_mass_slice = mist_color_slice[np.abs(\n",
    "        i - mist_color_slice['Gaia_G_EDR3']) \n",
    "                                   < 0.2]\n",
    "    mean = mist_mass_slice['star_mass'].mean()\n",
    "    \n",
    "    data_mag_slice = gao2018[np.abs(i - gao2018['abs_mag']) < 0.2]\n",
    "    mass_of_slice = mean * data_mag_slice.shape[0]\n",
    "    cluster_mass = cluster_mass + mass_of_slice\n",
    "    stars = stars + data_mag_slice.shape[0]\n",
    "\n",
    "print(cluster_mass, stars)"
   ]
  },
  {
   "cell_type": "markdown",
   "metadata": {},
   "source": [
    "The mass of stars changes as they evolve. An approximation of the mass of the cluster can be obtained by averaging the mass' given in the model isochrone data for some interval in absolute magnitude and multiplying that average by all of the stars that fall within that interval from the Gao 2018 data. Performing this style of approximation gives a cluster mass of 1193 solar masses. \n",
    "\n",
    "### 5\n",
    "- *Above the main sequence is a smaller, parallel track of stars. What is it? How far above the main sequence is it? Why?*\n",
    "\n",
    "This parallel track of stars are binary stars. They sit about 1 magnitude above the main sequence stars. One expects that a binary star system, with two equal mass stars, would be twice as bright as a single star with the same mass as the constituent stars. We wish to calculate the difference in the magnitudes $M_{single} - M_{binary}$ where the relationship between the luminosity of a star and it's absolute magnitude is given by\n",
    "$$\n",
    "M = M_{sun} - 2.5\\log_{10}{\\frac{L}{L_0}}\n",
    "$$\n",
    "\n",
    "assuming that the luminosity of the binary star is 2 times the luminosity of the single star $ L_{binary} = 2L_{single} = 2L$ then we write\n",
    "\n",
    "$$\n",
    "M_{single} - M_{binary} = M_{sun} - 2.5\\log_{10}{\\frac{L}{L_0}} - M_{sun} + 2.5\\log_{10}{\\frac{2L}{L_0}}\n",
    "$$ \n",
    "Simplifying \n",
    "$$\n",
    "M_{single} - M_{binary} = 2.5(log_{10}{2L} - log_{10}{L_0} - log_{10}{L} + log_{10}{L_0}) = 2.5(log_{10}{\\frac{2L}{L}}) = 0.75\n",
    "$$\n",
    "\n",
    "Which agrees with the the difference in magnitude of the two parrallel tracks of stars in the Gao 2018 sample."
   ]
  },
  {
   "cell_type": "code",
   "execution_count": 15,
   "metadata": {},
   "outputs": [
    {
     "data": {
      "text/plain": [
       "0.752574989159953"
      ]
     },
     "execution_count": 15,
     "metadata": {},
     "output_type": "execute_result"
    }
   ],
   "source": [
    "2.5*np.log10(2)"
   ]
  }
 ],
 "metadata": {
  "kernelspec": {
   "display_name": "Python 3",
   "language": "python",
   "name": "python3"
  },
  "language_info": {
   "codemirror_mode": {
    "name": "ipython",
    "version": 3
   },
   "file_extension": ".py",
   "mimetype": "text/x-python",
   "name": "python",
   "nbconvert_exporter": "python",
   "pygments_lexer": "ipython3",
   "version": "3.8.5"
  }
 },
 "nbformat": 4,
 "nbformat_minor": 4
}
